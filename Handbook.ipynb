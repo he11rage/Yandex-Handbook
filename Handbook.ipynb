{
 "cells": [
  {
   "cell_type": "markdown",
   "id": "1ab8da4c-13ca-484e-b955-1ae80a760382",
   "metadata": {},
   "source": [
    "# Основы Python"
   ]
  },
  {
   "cell_type": "markdown",
   "id": "df472a77-409a-42d1-aa06-9bf70c7fddb4",
   "metadata": {
    "jp-MarkdownHeadingCollapsed": true
   },
   "source": [
    "# Строки"
   ]
  },
  {
   "cell_type": "markdown",
   "id": "5329a7e5-7844-4dfa-8e6d-715a6207a877",
   "metadata": {},
   "source": [
    "### Ввод данных\n",
    "``` python\n",
    "x = input() # Чтение с консоли\n",
    "y = int(input()) # Чтение чисел\n",
    "z = float(input()) # Чтение чисел с плавающей точкой\n",
    "```"
   ]
  },
  {
   "cell_type": "markdown",
   "id": "48bacbd0-2a71-4ef1-818f-f9bcb9012f84",
   "metadata": {},
   "source": [
    "### f-строки\n",
    "**f-строки** - удобный инструмент для форматирования строк."
   ]
  },
  {
   "cell_type": "code",
   "execution_count": 2,
   "id": "133e3fb9-40b5-4d39-b348-45054d69b7b1",
   "metadata": {},
   "outputs": [
    {
     "name": "stdout",
     "output_type": "stream",
     "text": [
      "Привет, Максим\n"
     ]
    }
   ],
   "source": [
    "name = \"Максим\"\n",
    "print(f\"Привет, {name}\")"
   ]
  },
  {
   "cell_type": "markdown",
   "id": "1d5b3f18-310d-4c72-b19d-1bb8f352b813",
   "metadata": {
    "jp-MarkdownHeadingCollapsed": true
   },
   "source": [
    "### Управляющие символы\n",
    "- **\\n** — переход на новую строку;\n",
    "- **\\t** — табуляция;\n",
    "- **\\r** — возврат каретки в начало строки;\n",
    "- **\\b** — возврат каретки на один символ."
   ]
  },
  {
   "cell_type": "markdown",
   "id": "dad76f71-fa0d-488c-9703-0c497f189be3",
   "metadata": {},
   "source": [
    "### Выравнивание строк"
   ]
  },
  {
   "cell_type": "code",
   "execution_count": 3,
   "id": "5917ad64-26d1-4182-9e73-0d2abd612748",
   "metadata": {},
   "outputs": [
    {
     "name": "stdout",
     "output_type": "stream",
     "text": [
      "000000123\n",
      "123000000\n",
      "000123000\n"
     ]
    }
   ],
   "source": [
    "print(f\"{123:0>9}\") # заполнить слева пустые символы нулями до 9\n",
    "print(f\"{123:0<9}\") # заполнить справа пустые символы нулями до 9\n",
    "print(f\"{123:0^9}\") # заполнить слева и справа пустые символы нулями до 9"
   ]
  },
  {
   "cell_type": "markdown",
   "id": "a0e30023-497b-47e3-b22a-af64488c3de7",
   "metadata": {},
   "source": [
    "### Преобразование строк\n",
    "\n",
    "``` python\n",
    "n_1 = \"1\"\n",
    "int_n_1 = int(n_1) # В числовой тип\n",
    "float_n_1 = float(n_1) # В числовой с плавающей точкой\n",
    "str_n_1 = str(n_1) # В строку\n",
    "```"
   ]
  },
  {
   "cell_type": "markdown",
   "id": "e059d7f8-3005-404d-a681-44b60a9850b2",
   "metadata": {},
   "source": [
    "### Над строками можно производить следующие операции:\n",
    "- **сложение (конкатенация строк);**\n",
    "``` python\n",
    "    print(\"Сложно\" + \"подчинённый\")\n",
    "```\n",
    "- **Умножение строк**\n",
    "``` python\n",
    "    print(\"-\" * 10)\n",
    "```"
   ]
  },
  {
   "cell_type": "markdown",
   "id": "f127a952-c13c-4ffd-99cf-7d8daf38c7c6",
   "metadata": {},
   "source": [
    "## Арифметические операции"
   ]
  },
  {
   "cell_type": "code",
   "execution_count": 4,
   "id": "48136ccc-dd58-4cf8-b406-32a3b6982dbc",
   "metadata": {},
   "outputs": [
    {
     "name": "stdout",
     "output_type": "stream",
     "text": [
      "25.5\n",
      "24.5\n",
      "12.5\n",
      "50.0\n",
      "5.0\n",
      "50.0\n",
      "0.0\n"
     ]
    }
   ],
   "source": [
    "n = 25\n",
    "x = 0.5\n",
    "\n",
    "print(n + x) # Сложение\n",
    "print(n - x) # Вычитание\n",
    "print(n * x) # Умножение\n",
    "print(n / x) # Деление\n",
    "print(n ** x) # Возведение в степень\n",
    "print(n // x) # Целочисленное деление\n",
    "print(n % x) # Остаток от деления"
   ]
  },
  {
   "cell_type": "markdown",
   "id": "13a2eace-42db-4a33-9d36-bab4a701fed6",
   "metadata": {
    "jp-MarkdownHeadingCollapsed": true
   },
   "source": [
    "# Условный оператор"
   ]
  },
  {
   "cell_type": "markdown",
   "id": "ef80f95a-c65f-4458-b177-181167812c1d",
   "metadata": {},
   "source": [
    "Оператор ***if*** является началом условной конструкции. Далее идёт условие, которое возвращает логическое значение ***True*** или ***False***. Завершается условие символом \"двоеточие\".\n",
    "Тело условной конструкции может содержать одно или несколько выражений (строк). По завершении тела может идти следующее условие, которое начинается с оператора ***elif*** *(сокращение от else if — «иначе если»)*. Оно проверяется только в случае, если предыдущее условие не было истинным."
   ]
  },
  {
   "cell_type": "markdown",
   "id": "c4f4bac6-289e-4995-b37a-95d97a50352d",
   "metadata": {},
   "source": [
    "## Операторы сравнения\n",
    "- **>** (больше);\n",
    "- **>=** (больше или равно);\n",
    "- **<** (меньше);\n",
    "- **<=** (меньше или равно);\n",
    "- **==** (равно);\n",
    "- **!=** (не равно)."
   ]
  },
  {
   "cell_type": "markdown",
   "id": "14073daa-1696-49c7-a4ba-985c49dd973e",
   "metadata": {},
   "source": [
    "## Логические операторы\n",
    "Для записи сложных условий можно применять логические операции:\n",
    "- **and** — логическое *«И»* для двух условий. Возвращает **True**, если оба условия истинны, иначе возвращает **False**;\n",
    "- **or** — логическое *«ИЛИ»* для двух условий. Возвращает **False**, если оба условия ложны, иначе возвращает **True**;\n",
    "- **no**t — логическое *«НЕ»* для одного условия. Возвращает **False** для истинного условия, и наоборот."
   ]
  },
  {
   "cell_type": "markdown",
   "id": "8894354f-900c-4fb6-917f-2e4508f35613",
   "metadata": {},
   "source": [
    "Ниже приведена таблица истинности для логических операций."
   ]
  },
  {
   "cell_type": "markdown",
   "id": "fd0d9cfd-e5ff-4403-b5a8-b9dfdf757865",
   "metadata": {},
   "source": [
    "|   x   |   y   | not x | x or y |  x and y |\n",
    "|-------|-------|-------|--------|----------|\n",
    "| False | False | True  | False  |  False   |\n",
    "| False | True  | True  | True   |  False   |\n",
    "| True  | False | False | True   |  False   |\n",
    "| True  | True  | False | True   |  True    |\n"
   ]
  },
  {
   "cell_type": "markdown",
   "id": "e9bd0a6b-264e-4f6d-980e-a9ebbd8f9fda",
   "metadata": {},
   "source": [
    "### Пример:\n",
    "Пользователь должен ввести первую и последнюю буквы русского алфавита. Ввод производится в двух отдельных строках и в любом регистре."
   ]
  },
  {
   "cell_type": "code",
   "execution_count": 5,
   "id": "3fabe9fe-ae8c-4318-a722-ecdb6d77c66d",
   "metadata": {},
   "outputs": [
    {
     "name": "stdout",
     "output_type": "stream",
     "text": [
      "Введите первую и последнюю буквы русского алфавита.\n"
     ]
    },
    {
     "name": "stdin",
     "output_type": "stream",
     "text": [
      " а\n",
      " б\n"
     ]
    },
    {
     "name": "stdout",
     "output_type": "stream",
     "text": [
      "Неверно.\n"
     ]
    }
   ],
   "source": [
    "print(\"Введите первую и последнюю буквы русского алфавита.\")\n",
    "first_letter = input()\n",
    "last_letter = input()\n",
    "if (first_letter == \"а\" or first_letter == \"А\") and (\n",
    "        last_letter == \"я\" or last_letter == \"Я\"):\n",
    "    print(\"Верно.\")\n",
    "else:\n",
    "    print(\"Неверно.\")"
   ]
  },
  {
   "cell_type": "markdown",
   "id": "548c5a01-0d57-4bdc-b4ab-6382d1907e67",
   "metadata": {},
   "source": [
    "**В логическом операторе можно использовать двойное неравенство.**\n",
    "```python\n",
    "if x >= 0 and x < 100:\n",
    "    ...\n",
    "```\n",
    "**Эквивалентно**\n",
    "```python\n",
    "if 0 <= x < 100:\n",
    "    ...\n",
    "```"
   ]
  },
  {
   "cell_type": "markdown",
   "id": "b0aef226-f77b-44d8-9b89-bcda6c5342b2",
   "metadata": {},
   "source": [
    "Строки также можно сравнивать между собой с помощью операций >, < и т. д. В отличие от чисел, строки сравниваются посимвольно в соответствии с кодами символов в таблице кодировки.\n",
    "``` python\n",
    "letter_1 = \"t\"\n",
    "letter_2 = \"w\"\n",
    "print(letter_1 > letter_2)\n",
    "```\n",
    "**Функция ord()** возвращает код символа из таблицы кодировки:"
   ]
  },
  {
   "cell_type": "code",
   "execution_count": 6,
   "id": "07418524-9ffc-4f84-92d4-b60ff775c6b8",
   "metadata": {},
   "outputs": [
    {
     "name": "stdout",
     "output_type": "stream",
     "text": [
      "116 119\n"
     ]
    }
   ],
   "source": [
    "print(ord(\"t\"), ord(\"w\"))"
   ]
  },
  {
   "cell_type": "markdown",
   "id": "be7743cd-a862-478c-bd30-bc3b4687bcbf",
   "metadata": {},
   "source": [
    "Чтобы получить символ по его коду, необходимо вызвать встроенную функцию **chr()** с соответствующим кодом:"
   ]
  },
  {
   "cell_type": "code",
   "execution_count": 7,
   "id": "ce060ec2-4dbb-4985-a443-531e5a9fe487",
   "metadata": {},
   "outputs": [
    {
     "name": "stdout",
     "output_type": "stream",
     "text": [
      "t w\n"
     ]
    }
   ],
   "source": [
    "print(chr(116), chr(119))"
   ]
  },
  {
   "cell_type": "markdown",
   "id": "91ec16f0-fc54-40ff-80f5-73061397ead2",
   "metadata": {},
   "source": [
    "Для проверки условия наличия подстроки в строке используется оператор **in**."
   ]
  },
  {
   "cell_type": "code",
   "execution_count": 9,
   "id": "1dc3f747-c9de-4c5d-9fdc-361cf216da84",
   "metadata": {},
   "outputs": [
    {
     "name": "stdin",
     "output_type": "stream",
     "text": [
      " добрый день\n"
     ]
    },
    {
     "name": "stdout",
     "output_type": "stream",
     "text": [
      "Встретилось 'доброе' слово.\n"
     ]
    }
   ],
   "source": [
    "text = input()\n",
    "if \"добр\" in text:\n",
    "    print(\"Встретилось 'доброе' слово.\")\n",
    "else:\n",
    "    print(\"Добрых слов не найдено.\")"
   ]
  },
  {
   "cell_type": "markdown",
   "id": "ff6cd7b9-d2ed-4082-8050-080830506b6d",
   "metadata": {},
   "source": [
    "В Python версии 3.10 появился оператор **match**. В простейшем случае он последовательно сравнивает значение выражения с заранее заданными в операторах **case**. А затем выполняет код в операторе **case**, значение в котором соответствует проверяемому. "
   ]
  },
  {
   "cell_type": "code",
   "execution_count": 10,
   "id": "c78d5064-2433-48d9-9d4c-3ad26114c36e",
   "metadata": {},
   "outputs": [
    {
     "name": "stdin",
     "output_type": "stream",
     "text": [
      " красный\n"
     ]
    },
    {
     "name": "stdout",
     "output_type": "stream",
     "text": [
      "Стоп.\n"
     ]
    }
   ],
   "source": [
    "color = input()\n",
    "match color:\n",
    "    case 'красный' | 'жёлтый':\n",
    "        print('Стоп.')\n",
    "    case 'зелёный':\n",
    "        print('Можно ехать.')\n",
    "    case _:\n",
    "        print('Некорректное значение.')"
   ]
  },
  {
   "cell_type": "markdown",
   "id": "4de027dc-69e5-4067-b186-6e3eb5e7fc18",
   "metadata": {},
   "source": [
    "**Некоторые полезные функции:**\n",
    "- **len()** - определение длины строки.\n",
    "- **max()** и **min()** - возвращает максимальный и мнимальный элемент соответственно.\n",
    "- **abs()** - определяет модуль числа."
   ]
  },
  {
   "cell_type": "code",
   "execution_count": 11,
   "id": "b0a2d1b5-1e6c-47e1-9fff-90ae309d5c48",
   "metadata": {},
   "outputs": [
    {
     "name": "stdout",
     "output_type": "stream",
     "text": [
      "25\n",
      "k\n",
      "609\n"
     ]
    }
   ],
   "source": [
    "m = 12\n",
    "n = 19\n",
    "k = 25\n",
    "\n",
    "# максимальное число\n",
    "print(max(m, n, k))\n",
    "\n",
    "line_1 = \"m\"\n",
    "line_2 = \"n\"\n",
    "line_3 = \"k\"\n",
    "\n",
    "# минимальная лексикографически строка\n",
    "print(min(line_1, line_2, line_3))\n",
    "\n",
    "# количество цифр в числе 2 в степени 2022\n",
    "print(len(str(2 ** 2022)))"
   ]
  },
  {
   "cell_type": "markdown",
   "id": "1a2b220a-939a-43a7-9b17-32cb4bc51840",
   "metadata": {
    "jp-MarkdownHeadingCollapsed": true
   },
   "source": [
    "# Циклы"
   ]
  },
  {
   "cell_type": "markdown",
   "id": "2f308334-b8d9-47c8-847d-90842771ef46",
   "metadata": {},
   "source": [
    "**Цикл** позволяет выполнять код многократно:"
   ]
  },
  {
   "cell_type": "markdown",
   "id": "133eed29-f65f-4b83-96ee-0d973fa7f8f4",
   "metadata": {},
   "source": [
    "``` python\n",
    "saved_pwd = \"right_password\"\n",
    "pwd = input(\"Введите пароль для входа: \")\n",
    "while pwd != saved_pwd:\n",
    "    pwd = input(\"Введите пароль для входа: \")\n",
    "print(\"Пароль верный. Вход разрешён.\")\n",
    "```"
   ]
  },
  {
   "cell_type": "markdown",
   "id": "e17a42fc-505f-40c3-8da9-b33797fde6b7",
   "metadata": {},
   "source": [
    "В представленный выше программе применяется цикл **while**, в котором используется условие для проверки продолжения цикла.\n",
    "Пока выполняется условие, цикл продолжает работать. Условие необходимо для того, чтобы цикл не был бесконечным.\n",
    "\n",
    "**Тело цикла** - это код, который будет выполняться многократно. Синтаксис языка Python требует, чтобы тело цикла записывалось с отступом четыре пробела (использование **tab** не рекомендутеся согласно PEP 8).\n",
    "\n",
    "Каждый повтор, или шаг, цикла называется итерацией. Как только условие продолжение нарушено, то цикл останавливается."
   ]
  },
  {
   "cell_type": "markdown",
   "id": "57996de4-62c5-4082-9afa-236aef6163bc",
   "metadata": {},
   "source": [
    "В предыдущем примере можно обойтись без переменной pwd:\n",
    "```python\n",
    "saved_pwd = \"right_password\"\n",
    "while input(\"Введите пароль для входа: \") != saved_pwd:\n",
    "    pass\n",
    "print(\"Пароль верный. Вход разрешён.\")\n",
    "```\n",
    "\n",
    "Инструкция **pass** ничего не делает и нужна для соответствия кода синтаксису языка, так как тело цикла не может быть пустым."
   ]
  },
  {
   "cell_type": "markdown",
   "id": "60a033ca-2fa8-4579-8065-143599a5fe4b",
   "metadata": {},
   "source": [
    "В версии python 3.8 появился *моржовый оператор*. Он записывается как := и позволяет одновременно вычислить выражение, присвоить результат переменной и вернуть это значение, например в условие.\n",
    "\n",
    "**Пример:**\n",
    "```python\n",
    "while (name := input(\"Введите имя: \")) != \"СТОП\":\n",
    "    print(f\"Привет, {name}!\")\n",
    "print(\"Программа завершена.\")\n",
    "```\n",
    "Благодаря моржовому оператору можно считывать имя непосредственно на этапе проверки.\n",
    "\n",
    "**Итог:** цикл **while** применяется в тех случаях, когда заранее неизвестно, сколько итераций будет выполнено, но известно условие, при котором цикл продолжает работу."
   ]
  },
  {
   "cell_type": "markdown",
   "id": "36aae208-fd31-4718-87c5-f60cbea079ed",
   "metadata": {},
   "source": [
    "Если количество итераций заранее известно, то предпочтительнее использовать цикл **for**. Он применяется совместно с итерируемой переменной, которая называется **итератор**, очень часть её дают имя **i** (iterator), её значение изменяется на каждой итерации в соответствии с диапазоном, заданным функцией **range()**. Строго говоря, **range()** не является функцией, а встроенным типом данных (**Built-in-Type**), представляющим собой последовательность целых чисел."
   ]
  },
  {
   "cell_type": "markdown",
   "id": "8520649c-044e-48a3-8a5e-17a0b2aed77e",
   "metadata": {},
   "source": [
    "Функция **range()** может принимать от одного до трёх целочисленных аргументов:\n",
    "- **range(n)** - возвращает последовательность целых чисел от 0 до n-1.\n",
    "\n",
    "Например, **range(4)** вернёт последовательность целых чисел: *0, 1, 2, 3*;\n",
    "- **range(k, n)** - возвращает последовательность целых чисел от k до n-1.\n",
    "\n",
    "Например, **range(1, 5)** вернёт последовательность целых чисел: *1, 2, 3, 4*;\n",
    "- **range(k, n, s)** - возвращает последовательность целых чисел от k до n-1 с шагом s.\n",
    "\n",
    "Например, **range(1, 10, 2)** вернёт последовательность целых чисел: *1, 3, 5, 7, 9*;"
   ]
  },
  {
   "cell_type": "markdown",
   "id": "9fbe1dd1-1aec-4d14-b591-258877d4a965",
   "metadata": {},
   "source": [
    "**Пример использования функции range()**:"
   ]
  },
  {
   "cell_type": "code",
   "execution_count": 1,
   "id": "cbe1cc00-2d18-4c91-b643-e7001e82a152",
   "metadata": {},
   "outputs": [
    {
     "name": "stdin",
     "output_type": "stream",
     "text": [
      "Введите количество чисел:  10\n"
     ]
    },
    {
     "name": "stdout",
     "output_type": "stream",
     "text": [
      "0\n",
      "1\n",
      "2\n",
      "3\n",
      "4\n",
      "5\n",
      "6\n",
      "7\n",
      "8\n",
      "9\n"
     ]
    }
   ],
   "source": [
    "n = int(input(\"Введите количество чисел: \"))\n",
    "for i in range(n):\n",
    "    print(i)"
   ]
  },
  {
   "cell_type": "markdown",
   "id": "0d5c3bb1-cb7c-4e02-984f-a51c3daf2e4a",
   "metadata": {},
   "source": [
    "# Вложенные циклы"
   ]
  },
  {
   "cell_type": "markdown",
   "id": "cdcda8c4-d917-4e2f-9e22-c5d95d4d2489",
   "metadata": {},
   "source": [
    "Часто в программирования решаются задачи, в которых требуется использовать цикл внутри другого цикла. Такие циклы называются ***вложенными***.\n",
    "\n",
    "**Пример вложенного цикла:**\n",
    "рассмотрим задачу в которой требуется сгенерировать все возможные комбинации строчных букв английского алфавита длиной два символа."
   ]
  },
  {
   "cell_type": "code",
   "execution_count": 2,
   "id": "7fe034af-ac2c-481a-b0f2-e46824769f80",
   "metadata": {},
   "outputs": [
    {
     "name": "stdout",
     "output_type": "stream",
     "text": [
      "aa\n",
      "ab\n",
      "ac\n",
      "ad\n",
      "ae\n",
      "af\n",
      "ag\n",
      "ah\n",
      "ai\n",
      "aj\n",
      "ak\n",
      "al\n",
      "am\n",
      "an\n",
      "ao\n",
      "ap\n",
      "aq\n",
      "ar\n",
      "as\n",
      "at\n",
      "au\n",
      "av\n",
      "aw\n",
      "ax\n",
      "ay\n",
      "az\n",
      "ba\n",
      "bb\n",
      "bc\n",
      "bd\n",
      "be\n",
      "bf\n",
      "bg\n",
      "bh\n",
      "bi\n",
      "bj\n",
      "bk\n",
      "bl\n",
      "bm\n",
      "bn\n",
      "bo\n",
      "bp\n",
      "bq\n",
      "br\n",
      "bs\n",
      "bt\n",
      "bu\n",
      "bv\n",
      "bw\n",
      "bx\n",
      "by\n",
      "bz\n",
      "ca\n",
      "cb\n",
      "cc\n",
      "cd\n",
      "ce\n",
      "cf\n",
      "cg\n",
      "ch\n",
      "ci\n",
      "cj\n",
      "ck\n",
      "cl\n",
      "cm\n",
      "cn\n",
      "co\n",
      "cp\n",
      "cq\n",
      "cr\n",
      "cs\n",
      "ct\n",
      "cu\n",
      "cv\n",
      "cw\n",
      "cx\n",
      "cy\n",
      "cz\n",
      "da\n",
      "db\n",
      "dc\n",
      "dd\n",
      "de\n",
      "df\n",
      "dg\n",
      "dh\n",
      "di\n",
      "dj\n",
      "dk\n",
      "dl\n",
      "dm\n",
      "dn\n",
      "do\n",
      "dp\n",
      "dq\n",
      "dr\n",
      "ds\n",
      "dt\n",
      "du\n",
      "dv\n",
      "dw\n",
      "dx\n",
      "dy\n",
      "dz\n",
      "ea\n",
      "eb\n",
      "ec\n",
      "ed\n",
      "ee\n",
      "ef\n",
      "eg\n",
      "eh\n",
      "ei\n",
      "ej\n",
      "ek\n",
      "el\n",
      "em\n",
      "en\n",
      "eo\n",
      "ep\n",
      "eq\n",
      "er\n",
      "es\n",
      "et\n",
      "eu\n",
      "ev\n",
      "ew\n",
      "ex\n",
      "ey\n",
      "ez\n",
      "fa\n",
      "fb\n",
      "fc\n",
      "fd\n",
      "fe\n",
      "ff\n",
      "fg\n",
      "fh\n",
      "fi\n",
      "fj\n",
      "fk\n",
      "fl\n",
      "fm\n",
      "fn\n",
      "fo\n",
      "fp\n",
      "fq\n",
      "fr\n",
      "fs\n",
      "ft\n",
      "fu\n",
      "fv\n",
      "fw\n",
      "fx\n",
      "fy\n",
      "fz\n",
      "ga\n",
      "gb\n",
      "gc\n",
      "gd\n",
      "ge\n",
      "gf\n",
      "gg\n",
      "gh\n",
      "gi\n",
      "gj\n",
      "gk\n",
      "gl\n",
      "gm\n",
      "gn\n",
      "go\n",
      "gp\n",
      "gq\n",
      "gr\n",
      "gs\n",
      "gt\n",
      "gu\n",
      "gv\n",
      "gw\n",
      "gx\n",
      "gy\n",
      "gz\n",
      "ha\n",
      "hb\n",
      "hc\n",
      "hd\n",
      "he\n",
      "hf\n",
      "hg\n",
      "hh\n",
      "hi\n",
      "hj\n",
      "hk\n",
      "hl\n",
      "hm\n",
      "hn\n",
      "ho\n",
      "hp\n",
      "hq\n",
      "hr\n",
      "hs\n",
      "ht\n",
      "hu\n",
      "hv\n",
      "hw\n",
      "hx\n",
      "hy\n",
      "hz\n",
      "ia\n",
      "ib\n",
      "ic\n",
      "id\n",
      "ie\n",
      "if\n",
      "ig\n",
      "ih\n",
      "ii\n",
      "ij\n",
      "ik\n",
      "il\n",
      "im\n",
      "in\n",
      "io\n",
      "ip\n",
      "iq\n",
      "ir\n",
      "is\n",
      "it\n",
      "iu\n",
      "iv\n",
      "iw\n",
      "ix\n",
      "iy\n",
      "iz\n",
      "ja\n",
      "jb\n",
      "jc\n",
      "jd\n",
      "je\n",
      "jf\n",
      "jg\n",
      "jh\n",
      "ji\n",
      "jj\n",
      "jk\n",
      "jl\n",
      "jm\n",
      "jn\n",
      "jo\n",
      "jp\n",
      "jq\n",
      "jr\n",
      "js\n",
      "jt\n",
      "ju\n",
      "jv\n",
      "jw\n",
      "jx\n",
      "jy\n",
      "jz\n",
      "ka\n",
      "kb\n",
      "kc\n",
      "kd\n",
      "ke\n",
      "kf\n",
      "kg\n",
      "kh\n",
      "ki\n",
      "kj\n",
      "kk\n",
      "kl\n",
      "km\n",
      "kn\n",
      "ko\n",
      "kp\n",
      "kq\n",
      "kr\n",
      "ks\n",
      "kt\n",
      "ku\n",
      "kv\n",
      "kw\n",
      "kx\n",
      "ky\n",
      "kz\n",
      "la\n",
      "lb\n",
      "lc\n",
      "ld\n",
      "le\n",
      "lf\n",
      "lg\n",
      "lh\n",
      "li\n",
      "lj\n",
      "lk\n",
      "ll\n",
      "lm\n",
      "ln\n",
      "lo\n",
      "lp\n",
      "lq\n",
      "lr\n",
      "ls\n",
      "lt\n",
      "lu\n",
      "lv\n",
      "lw\n",
      "lx\n",
      "ly\n",
      "lz\n",
      "ma\n",
      "mb\n",
      "mc\n",
      "md\n",
      "me\n",
      "mf\n",
      "mg\n",
      "mh\n",
      "mi\n",
      "mj\n",
      "mk\n",
      "ml\n",
      "mm\n",
      "mn\n",
      "mo\n",
      "mp\n",
      "mq\n",
      "mr\n",
      "ms\n",
      "mt\n",
      "mu\n",
      "mv\n",
      "mw\n",
      "mx\n",
      "my\n",
      "mz\n",
      "na\n",
      "nb\n",
      "nc\n",
      "nd\n",
      "ne\n",
      "nf\n",
      "ng\n",
      "nh\n",
      "ni\n",
      "nj\n",
      "nk\n",
      "nl\n",
      "nm\n",
      "nn\n",
      "no\n",
      "np\n",
      "nq\n",
      "nr\n",
      "ns\n",
      "nt\n",
      "nu\n",
      "nv\n",
      "nw\n",
      "nx\n",
      "ny\n",
      "nz\n",
      "oa\n",
      "ob\n",
      "oc\n",
      "od\n",
      "oe\n",
      "of\n",
      "og\n",
      "oh\n",
      "oi\n",
      "oj\n",
      "ok\n",
      "ol\n",
      "om\n",
      "on\n",
      "oo\n",
      "op\n",
      "oq\n",
      "or\n",
      "os\n",
      "ot\n",
      "ou\n",
      "ov\n",
      "ow\n",
      "ox\n",
      "oy\n",
      "oz\n",
      "pa\n",
      "pb\n",
      "pc\n",
      "pd\n",
      "pe\n",
      "pf\n",
      "pg\n",
      "ph\n",
      "pi\n",
      "pj\n",
      "pk\n",
      "pl\n",
      "pm\n",
      "pn\n",
      "po\n",
      "pp\n",
      "pq\n",
      "pr\n",
      "ps\n",
      "pt\n",
      "pu\n",
      "pv\n",
      "pw\n",
      "px\n",
      "py\n",
      "pz\n",
      "qa\n",
      "qb\n",
      "qc\n",
      "qd\n",
      "qe\n",
      "qf\n",
      "qg\n",
      "qh\n",
      "qi\n",
      "qj\n",
      "qk\n",
      "ql\n",
      "qm\n",
      "qn\n",
      "qo\n",
      "qp\n",
      "qq\n",
      "qr\n",
      "qs\n",
      "qt\n",
      "qu\n",
      "qv\n",
      "qw\n",
      "qx\n",
      "qy\n",
      "qz\n",
      "ra\n",
      "rb\n",
      "rc\n",
      "rd\n",
      "re\n",
      "rf\n",
      "rg\n",
      "rh\n",
      "ri\n",
      "rj\n",
      "rk\n",
      "rl\n",
      "rm\n",
      "rn\n",
      "ro\n",
      "rp\n",
      "rq\n",
      "rr\n",
      "rs\n",
      "rt\n",
      "ru\n",
      "rv\n",
      "rw\n",
      "rx\n",
      "ry\n",
      "rz\n",
      "sa\n",
      "sb\n",
      "sc\n",
      "sd\n",
      "se\n",
      "sf\n",
      "sg\n",
      "sh\n",
      "si\n",
      "sj\n",
      "sk\n",
      "sl\n",
      "sm\n",
      "sn\n",
      "so\n",
      "sp\n",
      "sq\n",
      "sr\n",
      "ss\n",
      "st\n",
      "su\n",
      "sv\n",
      "sw\n",
      "sx\n",
      "sy\n",
      "sz\n",
      "ta\n",
      "tb\n",
      "tc\n",
      "td\n",
      "te\n",
      "tf\n",
      "tg\n",
      "th\n",
      "ti\n",
      "tj\n",
      "tk\n",
      "tl\n",
      "tm\n",
      "tn\n",
      "to\n",
      "tp\n",
      "tq\n",
      "tr\n",
      "ts\n",
      "tt\n",
      "tu\n",
      "tv\n",
      "tw\n",
      "tx\n",
      "ty\n",
      "tz\n",
      "ua\n",
      "ub\n",
      "uc\n",
      "ud\n",
      "ue\n",
      "uf\n",
      "ug\n",
      "uh\n",
      "ui\n",
      "uj\n",
      "uk\n",
      "ul\n",
      "um\n",
      "un\n",
      "uo\n",
      "up\n",
      "uq\n",
      "ur\n",
      "us\n",
      "ut\n",
      "uu\n",
      "uv\n",
      "uw\n",
      "ux\n",
      "uy\n",
      "uz\n",
      "va\n",
      "vb\n",
      "vc\n",
      "vd\n",
      "ve\n",
      "vf\n",
      "vg\n",
      "vh\n",
      "vi\n",
      "vj\n",
      "vk\n",
      "vl\n",
      "vm\n",
      "vn\n",
      "vo\n",
      "vp\n",
      "vq\n",
      "vr\n",
      "vs\n",
      "vt\n",
      "vu\n",
      "vv\n",
      "vw\n",
      "vx\n",
      "vy\n",
      "vz\n",
      "wa\n",
      "wb\n",
      "wc\n",
      "wd\n",
      "we\n",
      "wf\n",
      "wg\n",
      "wh\n",
      "wi\n",
      "wj\n",
      "wk\n",
      "wl\n",
      "wm\n",
      "wn\n",
      "wo\n",
      "wp\n",
      "wq\n",
      "wr\n",
      "ws\n",
      "wt\n",
      "wu\n",
      "wv\n",
      "ww\n",
      "wx\n",
      "wy\n",
      "wz\n",
      "xa\n",
      "xb\n",
      "xc\n",
      "xd\n",
      "xe\n",
      "xf\n",
      "xg\n",
      "xh\n",
      "xi\n",
      "xj\n",
      "xk\n",
      "xl\n",
      "xm\n",
      "xn\n",
      "xo\n",
      "xp\n",
      "xq\n",
      "xr\n",
      "xs\n",
      "xt\n",
      "xu\n",
      "xv\n",
      "xw\n",
      "xx\n",
      "xy\n",
      "xz\n",
      "ya\n",
      "yb\n",
      "yc\n",
      "yd\n",
      "ye\n",
      "yf\n",
      "yg\n",
      "yh\n",
      "yi\n",
      "yj\n",
      "yk\n",
      "yl\n",
      "ym\n",
      "yn\n",
      "yo\n",
      "yp\n",
      "yq\n",
      "yr\n",
      "ys\n",
      "yt\n",
      "yu\n",
      "yv\n",
      "yw\n",
      "yx\n",
      "yy\n",
      "yz\n",
      "za\n",
      "zb\n",
      "zc\n",
      "zd\n",
      "ze\n",
      "zf\n",
      "zg\n",
      "zh\n",
      "zi\n",
      "zj\n",
      "zk\n",
      "zl\n",
      "zm\n",
      "zn\n",
      "zo\n",
      "zp\n",
      "zq\n",
      "zr\n",
      "zs\n",
      "zt\n",
      "zu\n",
      "zv\n",
      "zw\n",
      "zx\n",
      "zy\n",
      "zz\n"
     ]
    }
   ],
   "source": [
    "for i in range(26):\n",
    "    for j in range(26):\n",
    "        print(f\"{chr(ord('a') + i)}{chr(ord('a') + j)}\")"
   ]
  },
  {
   "cell_type": "markdown",
   "id": "5802fbef-c9ce-42f0-94f5-b221cc296ec2",
   "metadata": {},
   "source": [
    "Внешний цикл фиксирует очередное значение итерируемой переменной **i**.\n",
    "Далеее запускается внутренний цикл, изменяющий значение итерируемой переменной **j**."
   ]
  },
  {
   "cell_type": "markdown",
   "id": "2749775f-8422-47f0-b3df-496a0577e4cc",
   "metadata": {},
   "source": [
    "Циклы могут иметь большую степень вложенности. Однако следует учитывать, что общее количество итераций при использовании вложенных циклов равно произведению итераций всех циклов, что приводит к увеличению времени работы программы."
   ]
  },
  {
   "cell_type": "markdown",
   "id": "459d9caf-7965-44c2-9278-afbc7c56c0f1",
   "metadata": {},
   "source": [
    "Циклы **for** и **while** можно останавливать при наступлении определенного условия. Для этого используется оператор **break**.\n",
    "```python\n",
    "password = \"right_password\"\n",
    "while True:\n",
    "    if input(\"Введите пароль: \") == password:\n",
    "        print(\"Пароль принимается\")\n",
    "        break\n",
    "```\n",
    "В данном примере мы запускаем бесконечный цикл, который сверяет пароль с верным, в случае если введенный пароль совпал, выводим фразу и останавливаем цикл.\n",
    "Оператор **break** во вложенных циклах останавливает только тот, в теле которого он был вызван."
   ]
  },
  {
   "cell_type": "markdown",
   "id": "fdef0b0a-4d88-44a9-ae16-1f73223e2b88",
   "metadata": {},
   "source": [
    "В циклах **for** и **while** можно останавливать текущую итерацию и переходить к следующей с помощью оператора **continue**. При использовании вложенных циклов оператор **continue** действует только на тот цикл, в котором он находится.\n",
    "**Пример:**\n",
    "```python\n",
    "for i in range(26):\n",
    "    for j in range(26):\n",
    "        if i == j:\n",
    "            continue\n",
    "        print(f\"{chr(ord('a') + i)}{chr(ord('a') + j)}\")\n",
    "```\n",
    "**Стоит запомнить что не стоит злоупотреблять операторами break и continue**."
   ]
  },
  {
   "cell_type": "markdown",
   "id": "6ead3c83-09eb-4b00-80b8-64c911c64e76",
   "metadata": {},
   "source": [
    "В циклах **while** и **for** можно использовать оператор **else**. Записанный в нем код будет выполняться, когда для цикла **while** нарушится условие продолжения, а для цикла **for** закончатся итерации.\n",
    "```python\n",
    "while input(\"Введите строку (СТОП для остановки): \") != \"СТОП\":\n",
    "    pass\n",
    "else:\n",
    "    print(\"Цикл завершён\")\n",
    "```\n",
    "После завершения цикла сработает оператор **else**, и код внутри него выведет строку «Цикл завершён».\n",
    "Оператор **break** влияет на поведение оператора **else** в циклах. Если в цикле сработал оператор **break**, то цикл сразу завершается, а код в операторе **else** выполняться не будет. "
   ]
  },
  {
   "cell_type": "code",
   "execution_count": null,
   "id": "f7c9efc3-7a54-440d-b1c3-a930210e30cc",
   "metadata": {},
   "outputs": [],
   "source": []
  }
 ],
 "metadata": {
  "kernelspec": {
   "display_name": "Python 3 (ipykernel)",
   "language": "python",
   "name": "python3"
  },
  "language_info": {
   "codemirror_mode": {
    "name": "ipython",
    "version": 3
   },
   "file_extension": ".py",
   "mimetype": "text/x-python",
   "name": "python",
   "nbconvert_exporter": "python",
   "pygments_lexer": "ipython3",
   "version": "3.12.7"
  }
 },
 "nbformat": 4,
 "nbformat_minor": 5
}

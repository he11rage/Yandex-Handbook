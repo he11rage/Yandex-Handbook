{
 "cells": [
  {
   "cell_type": "markdown",
   "id": "1ab8da4c-13ca-484e-b955-1ae80a760382",
   "metadata": {},
   "source": [
    "# Основы Python"
   ]
  },
  {
   "cell_type": "markdown",
   "id": "df472a77-409a-42d1-aa06-9bf70c7fddb4",
   "metadata": {
    "jp-MarkdownHeadingCollapsed": true
   },
   "source": [
    "# Строки"
   ]
  },
  {
   "cell_type": "markdown",
   "id": "5329a7e5-7844-4dfa-8e6d-715a6207a877",
   "metadata": {},
   "source": [
    "### Ввод данных\n",
    "``` python\n",
    "x = input() # Чтение с консоли\n",
    "y = int(input()) # Чтение чисел\n",
    "z = float(input()) # Чтение чисел с плавающей точкой\n",
    "```"
   ]
  },
  {
   "cell_type": "markdown",
   "id": "48bacbd0-2a71-4ef1-818f-f9bcb9012f84",
   "metadata": {},
   "source": [
    "### f-строки\n",
    "**f-строки** - удобный инструмент для форматирования строк."
   ]
  },
  {
   "cell_type": "code",
   "execution_count": 2,
   "id": "133e3fb9-40b5-4d39-b348-45054d69b7b1",
   "metadata": {},
   "outputs": [
    {
     "name": "stdout",
     "output_type": "stream",
     "text": [
      "Привет, Максим\n"
     ]
    }
   ],
   "source": [
    "name = \"Максим\"\n",
    "print(f\"Привет, {name}\")"
   ]
  },
  {
   "cell_type": "markdown",
   "id": "1d5b3f18-310d-4c72-b19d-1bb8f352b813",
   "metadata": {
    "jp-MarkdownHeadingCollapsed": true
   },
   "source": [
    "### Управляющие символы\n",
    "- **\\n** — переход на новую строку;\n",
    "- **\\t** — табуляция;\n",
    "- **\\r** — возврат каретки в начало строки;\n",
    "- **\\b** — возврат каретки на один символ."
   ]
  },
  {
   "cell_type": "markdown",
   "id": "dad76f71-fa0d-488c-9703-0c497f189be3",
   "metadata": {},
   "source": [
    "### Выравнивание строк"
   ]
  },
  {
   "cell_type": "code",
   "execution_count": 3,
   "id": "5917ad64-26d1-4182-9e73-0d2abd612748",
   "metadata": {},
   "outputs": [
    {
     "name": "stdout",
     "output_type": "stream",
     "text": [
      "000000123\n",
      "123000000\n",
      "000123000\n"
     ]
    }
   ],
   "source": [
    "print(f\"{123:0>9}\") # заполнить слева пустые символы нулями до 9\n",
    "print(f\"{123:0<9}\") # заполнить справа пустые символы нулями до 9\n",
    "print(f\"{123:0^9}\") # заполнить слева и справа пустые символы нулями до 9"
   ]
  },
  {
   "cell_type": "markdown",
   "id": "a0e30023-497b-47e3-b22a-af64488c3de7",
   "metadata": {},
   "source": [
    "### Преобразование строк\n",
    "\n",
    "``` python\n",
    "n_1 = \"1\"\n",
    "int_n_1 = int(n_1) # В числовой тип\n",
    "float_n_1 = float(n_1) # В числовой с плавающей точкой\n",
    "str_n_1 = str(n_1) # В строку\n",
    "```"
   ]
  },
  {
   "cell_type": "markdown",
   "id": "e059d7f8-3005-404d-a681-44b60a9850b2",
   "metadata": {},
   "source": [
    "### Над строками можно производить следующие операции:\n",
    "- **сложение (конкатенация строк);**\n",
    "``` python\n",
    "    print(\"Сложно\" + \"подчинённый\")\n",
    "```\n",
    "- **Умножение строк**\n",
    "``` python\n",
    "    print(\"-\" * 10)\n",
    "```"
   ]
  },
  {
   "cell_type": "markdown",
   "id": "f127a952-c13c-4ffd-99cf-7d8daf38c7c6",
   "metadata": {},
   "source": [
    "## Арифметические операции"
   ]
  },
  {
   "cell_type": "code",
   "execution_count": 4,
   "id": "48136ccc-dd58-4cf8-b406-32a3b6982dbc",
   "metadata": {},
   "outputs": [
    {
     "name": "stdout",
     "output_type": "stream",
     "text": [
      "25.5\n",
      "24.5\n",
      "12.5\n",
      "50.0\n",
      "5.0\n",
      "50.0\n",
      "0.0\n"
     ]
    }
   ],
   "source": [
    "n = 25\n",
    "x = 0.5\n",
    "\n",
    "print(n + x) # Сложение\n",
    "print(n - x) # Вычитание\n",
    "print(n * x) # Умножение\n",
    "print(n / x) # Деление\n",
    "print(n ** x) # Возведение в степень\n",
    "print(n // x) # Целочисленное деление\n",
    "print(n % x) # Остаток от деления"
   ]
  },
  {
   "cell_type": "markdown",
   "id": "13a2eace-42db-4a33-9d36-bab4a701fed6",
   "metadata": {},
   "source": [
    "# Условный оператор"
   ]
  },
  {
   "cell_type": "markdown",
   "id": "ef80f95a-c65f-4458-b177-181167812c1d",
   "metadata": {},
   "source": [
    "Оператор ***if*** является началом условной конструкции. Далее идёт условие, которое возвращает логическое значение ***True*** или ***False***. Завершается условие символом \"двоеточие\".\n",
    "Тело условной конструкции может содержать одно или несколько выражений (строк). По завершении тела может идти следующее условие, которое начинается с оператора ***elif*** *(сокращение от else if — «иначе если»)*. Оно проверяется только в случае, если предыдущее условие не было истинным."
   ]
  },
  {
   "cell_type": "markdown",
   "id": "c4f4bac6-289e-4995-b37a-95d97a50352d",
   "metadata": {},
   "source": [
    "## Операторы сравнения\n",
    "- **>** (больше);\n",
    "- **>=** (больше или равно);\n",
    "- **<** (меньше);\n",
    "- **<=** (меньше или равно);\n",
    "- **==** (равно);\n",
    "- **!=** (не равно)."
   ]
  },
  {
   "cell_type": "markdown",
   "id": "14073daa-1696-49c7-a4ba-985c49dd973e",
   "metadata": {},
   "source": [
    "## Логические операторы\n",
    "Для записи сложных условий можно применять логические операции:\n",
    "- **and** — логическое *«И»* для двух условий. Возвращает **True**, если оба условия истинны, иначе возвращает **False**;\n",
    "- **or** — логическое *«ИЛИ»* для двух условий. Возвращает **False**, если оба условия ложны, иначе возвращает **True**;\n",
    "- **no**t — логическое *«НЕ»* для одного условия. Возвращает **False** для истинного условия, и наоборот."
   ]
  },
  {
   "cell_type": "markdown",
   "id": "8894354f-900c-4fb6-917f-2e4508f35613",
   "metadata": {},
   "source": [
    "Ниже приведена таблица истинности для логических операций."
   ]
  },
  {
   "cell_type": "markdown",
   "id": "fd0d9cfd-e5ff-4403-b5a8-b9dfdf757865",
   "metadata": {},
   "source": [
    "|   x   |   y   | not x | x or y |  x and y |\n",
    "|-------|-------|-------|--------|----------|\n",
    "| False | False | True  | False  |  False   |\n",
    "| False | True  | True  | True   |  False   |\n",
    "| True  | False | False | True   |  False   |\n",
    "| True  | True  | False | True   |  True    |\n"
   ]
  },
  {
   "cell_type": "markdown",
   "id": "e9bd0a6b-264e-4f6d-980e-a9ebbd8f9fda",
   "metadata": {},
   "source": [
    "### Пример:\n",
    "Пользователь должен ввести первую и последнюю буквы русского алфавита. Ввод производится в двух отдельных строках и в любом регистре."
   ]
  },
  {
   "cell_type": "code",
   "execution_count": 5,
   "id": "3fabe9fe-ae8c-4318-a722-ecdb6d77c66d",
   "metadata": {},
   "outputs": [
    {
     "name": "stdout",
     "output_type": "stream",
     "text": [
      "Введите первую и последнюю буквы русского алфавита.\n"
     ]
    },
    {
     "name": "stdin",
     "output_type": "stream",
     "text": [
      " а\n",
      " б\n"
     ]
    },
    {
     "name": "stdout",
     "output_type": "stream",
     "text": [
      "Неверно.\n"
     ]
    }
   ],
   "source": [
    "print(\"Введите первую и последнюю буквы русского алфавита.\")\n",
    "first_letter = input()\n",
    "last_letter = input()\n",
    "if (first_letter == \"а\" or first_letter == \"А\") and (\n",
    "        last_letter == \"я\" or last_letter == \"Я\"):\n",
    "    print(\"Верно.\")\n",
    "else:\n",
    "    print(\"Неверно.\")"
   ]
  },
  {
   "cell_type": "markdown",
   "id": "548c5a01-0d57-4bdc-b4ab-6382d1907e67",
   "metadata": {},
   "source": [
    "**В логическом операторе можно использовать двойное неравенство.**\n",
    "```python\n",
    "if x >= 0 and x < 100:\n",
    "    ...\n",
    "```\n",
    "**Эквивалентно**\n",
    "```python\n",
    "if 0 <= x < 100:\n",
    "    ...\n",
    "```"
   ]
  },
  {
   "cell_type": "markdown",
   "id": "b0aef226-f77b-44d8-9b89-bcda6c5342b2",
   "metadata": {},
   "source": [
    "Строки также можно сравнивать между собой с помощью операций >, < и т. д. В отличие от чисел, строки сравниваются посимвольно в соответствии с кодами символов в таблице кодировки.\n",
    "``` python\n",
    "letter_1 = \"t\"\n",
    "letter_2 = \"w\"\n",
    "print(letter_1 > letter_2)\n",
    "```\n",
    "**Функция ord()** возвращает код символа из таблицы кодировки:"
   ]
  },
  {
   "cell_type": "code",
   "execution_count": 6,
   "id": "07418524-9ffc-4f84-92d4-b60ff775c6b8",
   "metadata": {},
   "outputs": [
    {
     "name": "stdout",
     "output_type": "stream",
     "text": [
      "116 119\n"
     ]
    }
   ],
   "source": [
    "print(ord(\"t\"), ord(\"w\"))"
   ]
  },
  {
   "cell_type": "markdown",
   "id": "be7743cd-a862-478c-bd30-bc3b4687bcbf",
   "metadata": {},
   "source": [
    "Чтобы получить символ по его коду, необходимо вызвать встроенную функцию **chr()** с соответствующим кодом:"
   ]
  },
  {
   "cell_type": "code",
   "execution_count": 7,
   "id": "ce060ec2-4dbb-4985-a443-531e5a9fe487",
   "metadata": {},
   "outputs": [
    {
     "name": "stdout",
     "output_type": "stream",
     "text": [
      "t w\n"
     ]
    }
   ],
   "source": [
    "print(chr(116), chr(119))"
   ]
  },
  {
   "cell_type": "markdown",
   "id": "91ec16f0-fc54-40ff-80f5-73061397ead2",
   "metadata": {},
   "source": [
    "Для проверки условия наличия подстроки в строке используется оператор **in**."
   ]
  },
  {
   "cell_type": "code",
   "execution_count": 9,
   "id": "1dc3f747-c9de-4c5d-9fdc-361cf216da84",
   "metadata": {},
   "outputs": [
    {
     "name": "stdin",
     "output_type": "stream",
     "text": [
      " добрый день\n"
     ]
    },
    {
     "name": "stdout",
     "output_type": "stream",
     "text": [
      "Встретилось 'доброе' слово.\n"
     ]
    }
   ],
   "source": [
    "text = input()\n",
    "if \"добр\" in text:\n",
    "    print(\"Встретилось 'доброе' слово.\")\n",
    "else:\n",
    "    print(\"Добрых слов не найдено.\")"
   ]
  },
  {
   "cell_type": "markdown",
   "id": "ff6cd7b9-d2ed-4082-8050-080830506b6d",
   "metadata": {},
   "source": [
    "В Python версии 3.10 появился оператор **match**. В простейшем случае он последовательно сравнивает значение выражения с заранее заданными в операторах **case**. А затем выполняет код в операторе **case**, значение в котором соответствует проверяемому. "
   ]
  },
  {
   "cell_type": "code",
   "execution_count": 10,
   "id": "c78d5064-2433-48d9-9d4c-3ad26114c36e",
   "metadata": {},
   "outputs": [
    {
     "name": "stdin",
     "output_type": "stream",
     "text": [
      " красный\n"
     ]
    },
    {
     "name": "stdout",
     "output_type": "stream",
     "text": [
      "Стоп.\n"
     ]
    }
   ],
   "source": [
    "color = input()\n",
    "match color:\n",
    "    case 'красный' | 'жёлтый':\n",
    "        print('Стоп.')\n",
    "    case 'зелёный':\n",
    "        print('Можно ехать.')\n",
    "    case _:\n",
    "        print('Некорректное значение.')"
   ]
  },
  {
   "cell_type": "markdown",
   "id": "4de027dc-69e5-4067-b186-6e3eb5e7fc18",
   "metadata": {},
   "source": [
    "**Некоторые полезные функции:**\n",
    "- **len()** - определение длины строки.\n",
    "- **max()** и **min()** - возвращает максимальный и мнимальный элемент соответственно.\n",
    "- **abs()** - определяет модуль числа."
   ]
  },
  {
   "cell_type": "code",
   "execution_count": 11,
   "id": "b0a2d1b5-1e6c-47e1-9fff-90ae309d5c48",
   "metadata": {},
   "outputs": [
    {
     "name": "stdout",
     "output_type": "stream",
     "text": [
      "25\n",
      "k\n",
      "609\n"
     ]
    }
   ],
   "source": [
    "m = 12\n",
    "n = 19\n",
    "k = 25\n",
    "\n",
    "# максимальное число\n",
    "print(max(m, n, k))\n",
    "\n",
    "line_1 = \"m\"\n",
    "line_2 = \"n\"\n",
    "line_3 = \"k\"\n",
    "\n",
    "# минимальная лексикографически строка\n",
    "print(min(line_1, line_2, line_3))\n",
    "\n",
    "# количество цифр в числе 2 в степени 2022\n",
    "print(len(str(2 ** 2022)))"
   ]
  },
  {
   "cell_type": "code",
   "execution_count": null,
   "id": "cf1661e9-b6e6-4e84-b080-9fd04d2a4598",
   "metadata": {},
   "outputs": [],
   "source": []
  }
 ],
 "metadata": {
  "kernelspec": {
   "display_name": "Python 3 (ipykernel)",
   "language": "python",
   "name": "python3"
  },
  "language_info": {
   "codemirror_mode": {
    "name": "ipython",
    "version": 3
   },
   "file_extension": ".py",
   "mimetype": "text/x-python",
   "name": "python",
   "nbconvert_exporter": "python",
   "pygments_lexer": "ipython3",
   "version": "3.12.7"
  }
 },
 "nbformat": 4,
 "nbformat_minor": 5
}
